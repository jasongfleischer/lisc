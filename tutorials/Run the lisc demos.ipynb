{
 "cells": [
  {
   "cell_type": "markdown",
   "metadata": {},
   "source": [
    "# Run LISC demos inside a Jupyter docker stack\n",
    "\n",
    "This notebook assumes you're running inside a *scipy-notebook* or *datascience-notebook* environment from the official Project Jupyter docker stacks.  It will install the necessary pip packages and execute the LISC demos, showing the results of each demo.\n",
    "\n",
    "To run this notebook, the docker command I use is\n",
    "\n",
    "    > docker run --rm -e NB_UID=$(id -u) -e NB_GID=$(id -g) --user root -p 8888:8888 -v /local/path/to/your/code:/home/jovyan/code  jupyter/scipy-notebook\n",
    "    \n",
    "NB: \n",
    "- the --rm argument removes the image when the execution is done, all work is gone unless you save it on a local directory!\n",
    "- the -v argument links a local directory into the docker image so you can load/save work there\n",
    "- the -e arguments make sure that your user/group ID is used to read/write in the local directory\n",
    "\n",
    "Obviously, very old versions or distant future versions of docker or the Jupyter docker stack may require changes to this method!\n",
    "\n",
    "## Of course this would run just fine in any python environment that has the lisc dependencies installed.  In that case skip the first cell \"import sys\" etc..."
   ]
  },
  {
   "cell_type": "code",
   "execution_count": null,
   "metadata": {},
   "outputs": [],
   "source": [
    "import sys\n",
    "!{sys.executable} -m pip install wordcloud\n",
    "!{sys.executable} -m pip install lisc"
   ]
  },
  {
   "cell_type": "code",
   "execution_count": null,
   "metadata": {},
   "outputs": [],
   "source": [
    "%run plot_00-Overview.py"
   ]
  },
  {
   "cell_type": "code",
   "execution_count": null,
   "metadata": {},
   "outputs": [],
   "source": [
    "%run plot_01-CountsCollection.py"
   ]
  },
  {
   "cell_type": "code",
   "execution_count": null,
   "metadata": {},
   "outputs": [],
   "source": [
    "%run plot_02-CountsAnalysis.py"
   ]
  },
  {
   "cell_type": "code",
   "execution_count": null,
   "metadata": {},
   "outputs": [],
   "source": [
    "%run plot_03-WordsCollection.py"
   ]
  },
  {
   "cell_type": "code",
   "execution_count": null,
   "metadata": {},
   "outputs": [],
   "source": [
    "# necessary for plot_04 work\n",
    "import nltk\n",
    "nltk.download('punkt')\n",
    "nltk.download('stopwords')"
   ]
  },
  {
   "cell_type": "code",
   "execution_count": null,
   "metadata": {},
   "outputs": [],
   "source": [
    "%run plot_04-WordsAnalysis.py"
   ]
  },
  {
   "cell_type": "code",
   "execution_count": null,
   "metadata": {},
   "outputs": [],
   "source": [
    "%run plot_05-Citations.py"
   ]
  },
  {
   "cell_type": "code",
   "execution_count": null,
   "metadata": {},
   "outputs": [],
   "source": [
    "%run plot_06-MetaData.py"
   ]
  }
 ],
 "metadata": {
  "kernelspec": {
   "display_name": "Python 3",
   "language": "python",
   "name": "python3"
  },
  "language_info": {
   "codemirror_mode": {
    "name": "ipython",
    "version": 3
   },
   "file_extension": ".py",
   "mimetype": "text/x-python",
   "name": "python",
   "nbconvert_exporter": "python",
   "pygments_lexer": "ipython3",
   "version": "3.7.4"
  }
 },
 "nbformat": 4,
 "nbformat_minor": 4
}
